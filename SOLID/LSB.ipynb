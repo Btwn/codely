{
 "cells": [
  {
   "cell_type": "markdown",
   "metadata": {
    "dotnet_interactive": {
     "language": "csharp"
    }
   },
   "source": [
    "## Introducción Conceptual"
   ]
  },
  {
   "cell_type": "markdown",
   "metadata": {},
   "source": [
    "- Concepto:\n",
    "    - Si S es un subtipo de T, instancias de T deberían poderse sustituir por instancias de S sin alterar las propiedades del programa\n",
    "    - Es decir, al tener una jerarquía nos supone que estamos estableciendo un contrato en el padre, por lo que, garantizar que se mantiene dicho contrato en el hijo, nos permitirá que podamos sustituir al padre y la aplicación seguirá funcionando perfectamente 👌\n",
    "- Cómo:\n",
    "    - El comportamiento de de las subclases debe respetar el contrato establecido en la superclase.\n",
    "- Finalidad:\n",
    "    - Mantener correctitud funcional para poder aplicar OCP"
   ]
  },
  {
   "cell_type": "markdown",
   "metadata": {},
   "source": [
    "## Ejemplo Sencillo"
   ]
  },
  {
   "cell_type": "markdown",
   "metadata": {},
   "source": [
    "En este enlace tenéis el repo con todos los ejemplos que vemos en este video."
   ]
  },
  {
   "cell_type": "markdown",
   "metadata": {},
   "source": [
    "Clase Rectangle:"
   ]
  },
  {
   "cell_type": "code",
   "execution_count": null,
   "metadata": {
    "dotnet_interactive": {
     "language": "csharp"
    },
    "vscode": {
     "languageId": "dotnet-interactive.csharp"
    }
   },
   "outputs": [],
   "source": [
    "class Rectangle {\n",
    "\n",
    "    private int length;      \n",
    "    private int width;\n",
    "\n",
    "    public Rectangle(int length, int width) {  \n",
    "        this.length = length;\n",
    "        this.width = width;\n",
    "    }\n",
    "\n",
    "    void setLength(int length) {\n",
    "        this.length = length;\n",
    "    }\n",
    "\n",
    "    void setWidth(int width) {\n",
    "        this.width = width;\n",
    "    }\n",
    "\n",
    "    int getArea() {\n",
    "        return this.length * this.width;\n",
    "    }\n",
    "}"
   ]
  },
  {
   "cell_type": "markdown",
   "metadata": {},
   "source": [
    "Podemos ver cómo nuestra clase Rectangle cuenta con dos atributos width y length y, además de un constructor y los setters de cada atributo, observamos una función getArea que implementa el comportamiento necesario para calcular el área del rectángulo (así nuestro modelo de dominio es mucho más rico en comportamiento => Tell, Don’t Ask!)."
   ]
  },
  {
   "cell_type": "markdown",
   "metadata": {},
   "source": [
    "Clase Square:"
   ]
  },
  {
   "cell_type": "code",
   "execution_count": null,
   "metadata": {
    "dotnet_interactive": {
     "language": "csharp"
    },
    "vscode": {
     "languageId": "dotnet-interactive.csharp"
    }
   },
   "outputs": [
    {
     "ename": "Error",
     "evalue": "(7,7): error CS0103: El nombre 'super' no existe en el contexto actual\r\n(8,7): error CS0103: El nombre 'super' no existe en el contexto actual\r\n(12,7): error CS0103: El nombre 'super' no existe en el contexto actual\r\n(13,7): error CS0103: El nombre 'super' no existe en el contexto actual",
     "output_type": "error",
     "traceback": [
      "(7,7): error CS0103: El nombre 'super' no existe en el contexto actual\r\n",
      "(8,7): error CS0103: El nombre 'super' no existe en el contexto actual\r\n",
      "(12,7): error CS0103: El nombre 'super' no existe en el contexto actual\r\n",
      "(13,7): error CS0103: El nombre 'super' no existe en el contexto actual"
     ]
    }
   ],
   "source": [
    "class Square : Rectangle {\n",
    "    public Square(int lengthAndWidth){\n",
    "      //base(lengthAndWidth, lengthAndWidth);\n",
    "    }\n",
    "\n",
    "    public void setLength(int length) {\n",
    "      super.setLength(length);\n",
    "      super.setWidth(length);\n",
    "    }\n",
    "\n",
    "    public void setWidth(TypeInitializationException width) {\n",
    "      super.setLength(width);\n",
    "      super.setWidth(width);\n",
    "    }\n",
    "}"
   ]
  },
  {
   "cell_type": "markdown",
   "metadata": {},
   "source": [
    "Nuestro Square es un tipo de Rectangle con la restricción de que su largo y ancho son iguales, es decir, si modificamos el largo, debemos modificar el ancho y viceversa. Así, la clase Square extiende de nuestra clase Rectangle.\n",
    "\n",
    "Vemos así en el propio constructor cómo recibe un único parámetro, pues utilizará el mismo tanto para definir el ancho como el largo en la superclase."
   ]
  },
  {
   "cell_type": "markdown",
   "metadata": {},
   "source": [
    "Test SquareShould:"
   ]
  },
  {
   "cell_type": "code",
   "execution_count": null,
   "metadata": {
    "dotnet_interactive": {
     "language": "csharp"
    },
    "vscode": {
     "languageId": "dotnet-interactive.csharp"
    }
   },
   "outputs": [],
   "source": [
    "final class SquareShould {\n",
    "    @Test\n",
    "    void not_respect_the_liskov_substitution_principle_breaking_the_rectangle_laws_while_modifying_its_length() {\n",
    "        Integer squareLengthAndWidth = 2;\n",
    "        Square square = new Square(squareLengthAndWidth);\n",
    "\n",
    "        Integer newSquareLength = 4;\n",
    "        square.setLength(newSquareLength);\n",
    "\n",
    "        Integer expectedAreaTakingIntoAccountRectangleLaws = 8;\n",
    "\n",
    "        assertNotEquals(expectedAreaTakingIntoAccountRectangleLaws, square.getArea());\n",
    "\t  }\n",
    "}"
   ]
  },
  {
   "cell_type": "markdown",
   "metadata": {},
   "source": [
    "Como vemos en el Test, cabría esperar que si Square extiende de Rectangle, mantenga el contrato establecido por éste y al modificar el tamaño del largo, su área se modifique como lo haría en el padre. Sin embargo, observamos que esto no se está cumpliendo en este caso, no se está cumpliendo el LSP  👎 .\n",
    "\n",
    "Pese a que estemos permitiendo que compile nuestra aplicación, ya que estamos manteniendo las firmas de los métodos heredados, el propio cuerpo de esos métodos hace que se viole el correcto funcionamiento del programa."
   ]
  }
 ],
 "metadata": {
  "kernelspec": {
   "display_name": ".NET (C#)",
   "language": "C#",
   "name": ".net-csharp"
  },
  "language_info": {
   "name": "C#"
  }
 },
 "nbformat": 4,
 "nbformat_minor": 2
}
