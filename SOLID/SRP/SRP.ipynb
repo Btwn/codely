{
 "cells": [
  {
   "cell_type": "markdown",
   "metadata": {},
   "source": [
    "## Introducción conceptual"
   ]
  },
  {
   "cell_type": "markdown",
   "metadata": {},
   "source": [
    "- Concepto:\n",
    "    - Una clase = Un concepto y responsabilidad\n",
    "    - Una clase debería tener sólo 1 razón para cambiar\n",
    "- Cómo conseguirlo:\n",
    "    - Clases pequeñas con objetivos acotados\n",
    "- Finalidad:\n",
    "    - Alta cohesión y robustez\n",
    "    - Permitir composición de clases (inyectar colaboradores)\n",
    "    - Evitar duplicidad de código"
   ]
  },
  {
   "cell_type": "markdown",
   "metadata": {},
   "source": [
    "## Ejemplo sencillo"
   ]
  },
  {
   "cell_type": "markdown",
   "metadata": {},
   "source": [
    "## Violación SRP en modelo de dominio"
   ]
  },
  {
   "cell_type": "markdown",
   "metadata": {},
   "source": [
    "Modelo de dominio Book:"
   ]
  },
  {
   "cell_type": "code",
   "execution_count": null,
   "metadata": {
    "dotnet_interactive": {
     "language": "csharp"
    },
    "vscode": {
     "languageId": "dotnet-interactive.csharp"
    }
   },
   "outputs": [],
   "source": [
    "class Book\n",
    "{\n",
    "    public String getTitle()\n",
    "    {\n",
    "        return \"A great book\";\n",
    "    }\n",
    "    public String getAuthor()\n",
    "    {\n",
    "        return \"John Doe\";\n",
    "    }\n",
    "    public void printCurrentPage()\n",
    "    { \n",
    "        Console.Write(\"current page content\");\n",
    "    }\n",
    "}"
   ]
  },
  {
   "cell_type": "markdown",
   "metadata": {},
   "source": [
    "Servicio cliente del modelo de dominio:"
   ]
  },
  {
   "cell_type": "code",
   "execution_count": null,
   "metadata": {
    "dotnet_interactive": {
     "language": "csharp"
    },
    "vscode": {
     "languageId": "dotnet-interactive.csharp"
    }
   },
   "outputs": [],
   "source": [
    "class Client\n",
    "{\n",
    "    public Client() {\n",
    "        Book book = new Book();\n",
    "        book.printCurrentPage();\n",
    "    }\n",
    "}\n"
   ]
  },
  {
   "cell_type": "markdown",
   "metadata": {},
   "source": [
    "⚠️ Motivo del por qué no respetamos SRP: Book está acoplada al canal estándar de salida al imprimir la página actual. Sabe cómo modelar los datos y cómo imprimirlos."
   ]
  },
  {
   "cell_type": "markdown",
   "metadata": {},
   "source": [
    "## Refactor respetando SRP"
   ]
  },
  {
   "cell_type": "markdown",
   "metadata": {},
   "source": [
    "Clase Book:"
   ]
  },
  {
   "cell_type": "code",
   "execution_count": null,
   "metadata": {
    "dotnet_interactive": {
     "language": "csharp"
    },
    "vscode": {
     "languageId": "dotnet-interactive.csharp"
    }
   },
   "outputs": [],
   "source": [
    "class Book\n",
    "{\n",
    "    public String getTitle()\n",
    "    {\n",
    "        return \"A great book\";\n",
    "    }\n",
    "    public String getAuthor()\n",
    "    {\n",
    "        return \"John Doe\";\n",
    "    }\n",
    "    public String getCurrentPage()\n",
    "    {\n",
    "        return \"current page content\";\n",
    "    }\n",
    "}"
   ]
  },
  {
   "cell_type": "markdown",
   "metadata": {
    "dotnet_interactive": {
     "language": "csharp"
    }
   },
   "source": [
    "Implementación de la impresora:"
   ]
  },
  {
   "cell_type": "code",
   "execution_count": null,
   "metadata": {
    "dotnet_interactive": {
     "language": "csharp"
    },
    "vscode": {
     "languageId": "dotnet-interactive.csharp"
    }
   },
   "outputs": [],
   "source": [
    "class StandardOutputPrinter\n",
    "{\n",
    "    public void printPage(String page)\n",
    "    {\n",
    "        Console.Write(page);\n",
    "        \n",
    "        // en esta funcion se usan elementos de la infrastructura\n",
    "        // asi se mantiene separada la infrastructura del dominio\n",
    "        // System.out.println(page);\n",
    "    }\n",
    "}"
   ]
  },
  {
   "cell_type": "markdown",
   "metadata": {},
   "source": [
    "Servicio cliente:"
   ]
  },
  {
   "cell_type": "code",
   "execution_count": null,
   "metadata": {
    "dotnet_interactive": {
     "language": "csharp"
    },
    "vscode": {
     "languageId": "dotnet-interactive.csharp"
    }
   },
   "outputs": [],
   "source": [
    "class Client\n",
    "{\n",
    "    public Client() {\n",
    "        Book book = new Book();\n",
    "        String currentPage = book.getCurrentPage();\n",
    "        StandardOutputPrinter printer = new StandardOutputPrinter();\n",
    "        printer.printPage(currentPage);\n",
    "    }\n",
    "}"
   ]
  },
  {
   "cell_type": "code",
   "execution_count": null,
   "metadata": {
    "dotnet_interactive": {
     "language": "csharp"
    },
    "vscode": {
     "languageId": "dotnet-interactive.csharp"
    }
   },
   "outputs": [
    {
     "name": "stdout",
     "output_type": "stream",
     "text": [
      "current page content"
     ]
    }
   ],
   "source": [
    "Client client = new Client();"
   ]
  },
  {
   "cell_type": "markdown",
   "metadata": {},
   "source": [
    "## Aplicando modularidad"
   ]
  },
  {
   "cell_type": "markdown",
   "metadata": {},
   "source": [
    "Interface Printer:"
   ]
  },
  {
   "cell_type": "code",
   "execution_count": null,
   "metadata": {
    "dotnet_interactive": {
     "language": "csharp"
    },
    "vscode": {
     "languageId": "dotnet-interactive.csharp"
    }
   },
   "outputs": [],
   "source": [
    "interface Printer\n",
    "{\n",
    "    public void printPage(String page);\n",
    "}"
   ]
  },
  {
   "cell_type": "markdown",
   "metadata": {},
   "source": [
    "Impresora por el canal estándar de salida:"
   ]
  },
  {
   "cell_type": "code",
   "execution_count": null,
   "metadata": {
    "dotnet_interactive": {
     "language": "csharp"
    },
    "vscode": {
     "languageId": "dotnet-interactive.csharp"
    }
   },
   "outputs": [],
   "source": [
    "class StandardOutputPrinter : Printer\n",
    "{\n",
    "    public void printPage(String page)\n",
    "    {\n",
    "        Console.Write(page);\n",
    "    }\n",
    "}"
   ]
  },
  {
   "cell_type": "markdown",
   "metadata": {},
   "source": [
    "Impresora por el canal estándar de salida pero en HTML:"
   ]
  },
  {
   "cell_type": "code",
   "execution_count": null,
   "metadata": {
    "dotnet_interactive": {
     "language": "csharp"
    },
    "vscode": {
     "languageId": "dotnet-interactive.csharp"
    }
   },
   "outputs": [],
   "source": [
    "class StandardOutputHtmlPrinter : Printer\n",
    "{\n",
    "    public void printPage(String page)\n",
    "    {\n",
    "        Console.Write(\"<div>\" + page + \"</div>\");\n",
    "    }\n",
    "}"
   ]
  },
  {
   "cell_type": "markdown",
   "metadata": {},
   "source": [
    "Diagrama de UML que nos ha quedado finalmente:\n",
    "![Diagrama de UML](./SRP_Diagram.png \"Diagrama UML\")"
   ]
  }
 ],
 "metadata": {
  "kernelspec": {
   "display_name": ".NET (C#)",
   "language": "C#",
   "name": ".net-csharp"
  },
  "language_info": {
   "name": "C#"
  }
 },
 "nbformat": 4,
 "nbformat_minor": 2
}
