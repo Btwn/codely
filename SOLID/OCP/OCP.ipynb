{
 "cells": [
  {
   "cell_type": "markdown",
   "metadata": {},
   "source": [
    "\n",
    "## Introducción conceptual"
   ]
  },
  {
   "cell_type": "markdown",
   "metadata": {},
   "source": [
    "- Concepto:\n",
    "    - El Software debería estar abierto a extensión y cerrado a modificación.\n",
    "    - Esto aplica tanto a nuestras clases internas, servicios, microservicios, casos de usos…\n",
    "- Cómo conseguirlo:\n",
    "    - Evitando depender de implementaciones específicas, haciendo uso de clases abstractas o interfaces.\n",
    "- Finalidad:\n",
    "    - Facilidad para añadir nuevos Casos de uso en nuestra aplicación."
   ]
  },
  {
   "cell_type": "markdown",
   "metadata": {},
   "source": [
    "## Ejemplo Sencillo"
   ]
  },
  {
   "cell_type": "markdown",
   "metadata": {},
   "source": [
    "## Violación OCP 👎"
   ]
  },
  {
   "cell_type": "markdown",
   "metadata": {},
   "source": [
    "Clase Song:"
   ]
  },
  {
   "cell_type": "code",
   "execution_count": null,
   "metadata": {
    "dotnet_interactive": {
     "language": "csharp"
    },
    "vscode": {
     "languageId": "dotnet-interactive.csharp"
    }
   },
   "outputs": [],
   "source": [
    "class Song {\n",
    "    private Double totalLength;\n",
    "    private Double sentLength;\n",
    "\n",
    "    public Double getSentLengthPercentage() {\n",
    "        return sentLength * 100 / totalLength;\n",
    "    }\n",
    "}"
   ]
  },
  {
   "cell_type": "markdown",
   "metadata": {},
   "source": [
    "Clase File:"
   ]
  },
  {
   "cell_type": "code",
   "execution_count": null,
   "metadata": {
    "dotnet_interactive": {
     "language": "csharp"
    },
    "vscode": {
     "languageId": "dotnet-interactive.csharp"
    }
   },
   "outputs": [],
   "source": [
    "class File {\n",
    "  private Double totalLength;\n",
    "  private Double sentLength;\n",
    "\n",
    "  public Double getSentLengthPercentage() {\n",
    "    return sentLength * 100 / totalLength;\n",
    "  }\n",
    "}"
   ]
  },
  {
   "cell_type": "markdown",
   "metadata": {},
   "source": [
    "## Siguiendo el Principio OCP 👍"
   ]
  },
  {
   "cell_type": "markdown",
   "metadata": {},
   "source": [
    "## A través de Interface ☝️"
   ]
  },
  {
   "cell_type": "markdown",
   "metadata": {},
   "source": [
    "Interface Measurable:"
   ]
  },
  {
   "cell_type": "code",
   "execution_count": null,
   "metadata": {
    "dotnet_interactive": {
     "language": "csharp"
    },
    "vscode": {
     "languageId": "dotnet-interactive.csharp"
    }
   },
   "outputs": [],
   "source": [
    "interface Measurable {\n",
    "  public Double getTotalLength();\n",
    "  public Double getSentLength();\n",
    "}"
   ]
  },
  {
   "cell_type": "markdown",
   "metadata": {},
   "source": [
    "Clase Song implementando Measurable:"
   ]
  },
  {
   "cell_type": "code",
   "execution_count": null,
   "metadata": {
    "dotnet_interactive": {
     "language": "csharp"
    },
    "vscode": {
     "languageId": "dotnet-interactive.csharp"
    }
   },
   "outputs": [],
   "source": [
    "class Song : Measurable {\n",
    "    private Double totalLength;\n",
    "    private Double sentLength;\n",
    "    \n",
    "    public Double getTotalLength() {\n",
    "        return totalLength;\n",
    "    }\n",
    "    \n",
    "    public Double getSentLength() {\n",
    "        return sentLength;\n",
    "    }\n",
    "}"
   ]
  },
  {
   "cell_type": "markdown",
   "metadata": {},
   "source": [
    "Hemos extraído los elementos comunes a una interface Measurable. Vemos como nuestra clase Song ahora implementa ésta interface y sobreescribe sus métodos rellenando el cuerpo."
   ]
  },
  {
   "cell_type": "markdown",
   "metadata": {},
   "source": [
    "Clase Progress:"
   ]
  },
  {
   "cell_type": "code",
   "execution_count": null,
   "metadata": {
    "dotnet_interactive": {
     "language": "csharp"
    },
    "vscode": {
     "languageId": "dotnet-interactive.csharp"
    }
   },
   "outputs": [],
   "source": [
    "class Progress {\n",
    "    public Double getSentLengthPercentage(Measurable measurable) {\n",
    "        return measurable.getSentLength() * 100 / measurable.getTotalLength();\n",
    "    }\n",
    "}"
   ]
  },
  {
   "cell_type": "markdown",
   "metadata": {},
   "source": [
    "Finalmente, nuestra clase Progress realizará el cálculo en base a algo Measurable, por lo que se acopla únicamente a la interface."
   ]
  },
  {
   "cell_type": "markdown",
   "metadata": {},
   "source": [
    "## A través de Abstract Class ✌️"
   ]
  },
  {
   "cell_type": "markdown",
   "metadata": {},
   "source": [
    "Clase abstracta Measurable:"
   ]
  },
  {
   "cell_type": "code",
   "execution_count": null,
   "metadata": {
    "dotnet_interactive": {
     "language": "csharp"
    },
    "vscode": {
     "languageId": "dotnet-interactive.csharp"
    }
   },
   "outputs": [],
   "source": [
    "abstract class Measurable {\n",
    "    public Double getTotalLength;\n",
    "    public Double getSentLength;\n",
    "    \n",
    "    public Double getSentLengthPercentage() {\n",
    "        return getSentLength * 100 / getTotalLength;\n",
    "    }\n",
    "}"
   ]
  },
  {
   "cell_type": "markdown",
   "metadata": {},
   "source": [
    "Clase Song heredando de Measurable:"
   ]
  },
  {
   "cell_type": "code",
   "execution_count": null,
   "metadata": {
    "dotnet_interactive": {
     "language": "csharp"
    },
    "vscode": {
     "languageId": "dotnet-interactive.csharp"
    }
   },
   "outputs": [],
   "source": [
    "class Song : Measurable {\n",
    "    public Double getTotalLength() {\n",
    "        // ...\n",
    "        return this.getTotalLength();\n",
    "    }\n",
    "\n",
    "    public Double getSentLength() {\n",
    "        // ...\n",
    "        return this.getSentLength();\n",
    "    } \n",
    "}"
   ]
  },
  {
   "cell_type": "markdown",
   "metadata": {},
   "source": [
    "Clase Progress como cliente de Measurable:"
   ]
  },
  {
   "cell_type": "code",
   "execution_count": null,
   "metadata": {
    "dotnet_interactive": {
     "language": "csharp"
    },
    "vscode": {
     "languageId": "dotnet-interactive.csharp"
    }
   },
   "outputs": [],
   "source": [
    "class Progress {\n",
    "    public Double getSentLengthPercentage(Measurable measurable) {\n",
    "        return measurable.getSentLengthPercentage();\n",
    "    }\n",
    "}"
   ]
  },
  {
   "cell_type": "markdown",
   "metadata": {},
   "source": [
    "Al heredar de Measurable, nuestras clases contarán con ese método getSentLengthPercentage() ya implementado.\n",
    "\n",
    "En este caso nos llevaríamos la lógica a nuestro modelo. 👌"
   ]
  },
  {
   "cell_type": "markdown",
   "metadata": {},
   "source": [
    "¡Pero cuidado! 👀 esto implica una pérdida de la trazabilidad de nuestro código."
   ]
  }
 ],
 "metadata": {
  "kernelspec": {
   "display_name": ".NET (C#)",
   "language": "C#",
   "name": ".net-csharp"
  },
  "language_info": {
   "name": "C#"
  }
 },
 "nbformat": 4,
 "nbformat_minor": 2
}
