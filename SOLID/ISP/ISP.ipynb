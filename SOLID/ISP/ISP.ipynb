{
 "cells": [
  {
   "cell_type": "markdown",
   "metadata": {
    "dotnet_interactive": {
     "language": "csharp"
    }
   },
   "source": [
    "## Introducción Conceptual"
   ]
  },
  {
   "cell_type": "markdown",
   "metadata": {},
   "source": [
    "- Concepto:\n",
    "    - Ningún cliente debería verse forzado a depender de métodos que no usa\n",
    "- Cómo:\n",
    "    - Definir contratos de interfaces basándonos en los clientes que las usan y no en las implementaciones que pudiéramos tener (Las interfaces pertenecen a los clientes)\n",
    "    - Evitar Header Interfaces promoviendo Role Interfaces\n",
    "- Finalidad:\n",
    "    - Alta cohesión y bajo acoplamiento estructural"
   ]
  },
  {
   "cell_type": "markdown",
   "metadata": {},
   "source": [
    "Las interfaces **pertenecen a los clientes** y no a quienes las implementan"
   ]
  },
  {
   "cell_type": "code",
   "execution_count": null,
   "metadata": {
    "dotnet_interactive": {
     "language": "csharp"
    },
    "vscode": {
     "languageId": "dotnet-interactive.csharp"
    }
   },
   "outputs": [],
   "source": [
    "public interface Animal {\n",
    "    void fly();\n",
    "    void run();\n",
    "    void bark();\n",
    "}"
   ]
  },
  {
   "cell_type": "markdown",
   "metadata": {},
   "source": [
    "## Ejemplo sencillo"
   ]
  },
  {
   "cell_type": "markdown",
   "metadata": {},
   "source": [
    "Clase Dog que implementa de Animal"
   ]
  },
  {
   "cell_type": "code",
   "execution_count": null,
   "metadata": {
    "dotnet_interactive": {
     "language": "csharp"
    },
    "vscode": {
     "languageId": "dotnet-interactive.csharp"
    }
   },
   "outputs": [],
   "source": [
    "public class Dog : Animal {\n",
    "\n",
    "    public void fly() { }\n",
    "\n",
    "    public void run() {\n",
    "        Console.Write(\"Dog is running\");\n",
    "    }\n",
    "\n",
    "    public void bark() {\n",
    "        Console.Write(\"Dog is barking\");\n",
    "    }\n",
    "}"
   ]
  },
  {
   "cell_type": "markdown",
   "metadata": {},
   "source": [
    "Clase Bird que implementa de Animal"
   ]
  },
  {
   "cell_type": "code",
   "execution_count": null,
   "metadata": {
    "dotnet_interactive": {
     "language": "csharp"
    },
    "vscode": {
     "languageId": "dotnet-interactive.csharp"
    }
   },
   "outputs": [],
   "source": [
    "public class Bird : Animal {\n",
    "    public void bark() { }\n",
    "\n",
    "    public void run() {\n",
    "        Console.Write(\"Bird is running\");\n",
    "    }\n",
    "    \n",
    "    public void fly() {\n",
    "        Console.Write(\"Bird is flying\");\n",
    "    }\n",
    "}"
   ]
  },
  {
   "cell_type": "markdown",
   "metadata": {},
   "source": [
    "La interfaz Animal no esta debidamente segregada, dado que la clase Dog se ve obligada a tener el metodo fly() aunque no sea parte de su dominio, igualmente la clase Bird se ve obligada a tener el metodo bark()"
   ]
  }
 ],
 "metadata": {
  "kernelspec": {
   "display_name": ".NET (C#)",
   "language": "C#",
   "name": ".net-csharp"
  },
  "language_info": {
   "name": "C#"
  }
 },
 "nbformat": 4,
 "nbformat_minor": 2
}
